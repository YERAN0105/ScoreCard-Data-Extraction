{
 "nbformat": 4,
 "nbformat_minor": 0,
 "metadata": {
  "colab": {
   "provenance": [],
   "authorship_tag": "ABX9TyMuRkIlG8qBlkIkgAIaLkIM"
  },
  "kernelspec": {
   "name": "python3",
   "display_name": "Python 3 (ipykernel)",
   "language": "python"
  },
  "language_info": {
   "name": "python"
  }
 },
 "cells": [
  {
   "cell_type": "code",
   "source": "!pip install tabula-py",
   "metadata": {
    "colab": {
     "base_uri": "https://localhost:8080/"
    },
    "id": "A7LJ6MN5NwgF",
    "executionInfo": {
     "status": "ok",
     "timestamp": 1722503624505,
     "user_tz": -330,
     "elapsed": 4845,
     "user": {
      "displayName": "Yeran Fernando",
      "userId": "15923403016209877292"
     }
    },
    "outputId": "7c0f841e-82c6-42c1-dbd6-33d202e4ad5a",
    "ExecuteTime": {
     "end_time": "2024-09-02T06:16:01.329900Z",
     "start_time": "2024-09-02T06:14:41.142793Z"
    }
   },
   "outputs": [
    {
     "name": "stdout",
     "output_type": "stream",
     "text": [
      "Collecting tabula-py\n",
      "  Downloading tabula_py-2.9.3-py3-none-any.whl (12.0 MB)\n",
      "Requirement already satisfied: pandas>=0.25.3 in c:\\users\\lenovo\\appdata\\local\\programs\\python\\python39\\lib\\site-packages (from tabula-py) (2.2.2)\n",
      "Collecting distro\n",
      "  Downloading distro-1.9.0-py3-none-any.whl (20 kB)\n",
      "Requirement already satisfied: numpy in c:\\users\\lenovo\\appdata\\local\\programs\\python\\python39\\lib\\site-packages (from tabula-py) (1.26.4)\n",
      "Requirement already satisfied: pytz>=2020.1 in c:\\users\\lenovo\\appdata\\local\\programs\\python\\python39\\lib\\site-packages (from pandas>=0.25.3->tabula-py) (2024.1)\n",
      "Requirement already satisfied: python-dateutil>=2.8.2 in c:\\users\\lenovo\\appdata\\local\\programs\\python\\python39\\lib\\site-packages (from pandas>=0.25.3->tabula-py) (2.9.0.post0)\n",
      "Requirement already satisfied: tzdata>=2022.7 in c:\\users\\lenovo\\appdata\\local\\programs\\python\\python39\\lib\\site-packages (from pandas>=0.25.3->tabula-py) (2024.1)\n",
      "Requirement already satisfied: six>=1.5 in c:\\users\\lenovo\\appdata\\local\\programs\\python\\python39\\lib\\site-packages (from python-dateutil>=2.8.2->pandas>=0.25.3->tabula-py) (1.16.0)\n",
      "Installing collected packages: distro, tabula-py\n",
      "Successfully installed distro-1.9.0 tabula-py-2.9.3\n"
     ]
    },
    {
     "name": "stderr",
     "output_type": "stream",
     "text": [
      "WARNING: You are using pip version 21.2.4; however, version 24.2 is available.\n",
      "You should consider upgrading via the 'C:\\Users\\Lenovo\\AppData\\Local\\Programs\\Python\\Python39\\python.exe -m pip install --upgrade pip' command.\n"
     ]
    }
   ],
   "execution_count": 1
  },
  {
   "metadata": {
    "ExecuteTime": {
     "end_time": "2024-09-02T06:24:33.679889Z",
     "start_time": "2024-09-02T06:24:33.650027Z"
    }
   },
   "cell_type": "code",
   "source": [
    "from PIL import Image\n",
    "\n",
    "# Open the image file\n",
    "image = Image.open('Cricketscoredcard1b.png')\n",
    "\n",
    "# Convert the image to RGB (PDF doesn't support RGBA)\n",
    "image = image.convert('RGB')\n",
    "\n",
    "# Save the image as a PDF\n",
    "image.save('output.pdf')\n"
   ],
   "outputs": [],
   "execution_count": 4
  },
  {
   "cell_type": "code",
   "source": [
    "import tabula\n",
    "\n",
    "# Read PDF file and extract tables\n",
    "dfs = tabula.read_pdf('output.pdf', pages='all')\n",
    "\n",
    "# Number of tables extracted\n",
    "print(len(dfs))\n",
    "\n",
    "# Print the first table\n",
    "if dfs:\n",
    "    print(dfs[0])\n"
   ],
   "metadata": {
    "colab": {
     "base_uri": "https://localhost:8080/",
     "height": 384
    },
    "id": "LDtaeVY6N4VK",
    "executionInfo": {
     "status": "error",
     "timestamp": 1722565425474,
     "user_tz": -330,
     "elapsed": 436,
     "user": {
      "displayName": "Yeran Fernando",
      "userId": "15923403016209877292"
     }
    },
    "outputId": "3de9faff-6a4c-4622-d956-433a66c2328b",
    "ExecuteTime": {
     "end_time": "2024-09-02T06:24:53.151014Z",
     "start_time": "2024-09-02T06:24:52.067029Z"
    }
   },
   "outputs": [
    {
     "name": "stderr",
     "output_type": "stream",
     "text": [
      "Failed to import jpype dependencies. Fallback to subprocess.\n",
      "No module named 'jpype'\n"
     ]
    },
    {
     "ename": "JavaNotFoundError",
     "evalue": "`java` command is not found from this Python process.Please ensure Java is installed and PATH is set for `java`",
     "output_type": "error",
     "traceback": [
      "\u001B[1;31m---------------------------------------------------------------------------\u001B[0m",
      "\u001B[1;31mFileNotFoundError\u001B[0m                         Traceback (most recent call last)",
      "File \u001B[1;32m~\\AppData\\Local\\Programs\\Python\\Python39\\lib\\site-packages\\tabula\\backend.py:122\u001B[0m, in \u001B[0;36mSubprocessTabula.call_tabula_java\u001B[1;34m(self, options, path)\u001B[0m\n\u001B[0;32m    121\u001B[0m \u001B[38;5;28;01mtry\u001B[39;00m:\n\u001B[1;32m--> 122\u001B[0m     result \u001B[38;5;241m=\u001B[39m \u001B[43msubprocess\u001B[49m\u001B[38;5;241;43m.\u001B[39;49m\u001B[43mrun\u001B[49m\u001B[43m(\u001B[49m\n\u001B[0;32m    123\u001B[0m \u001B[43m        \u001B[49m\u001B[43margs\u001B[49m\u001B[43m,\u001B[49m\n\u001B[0;32m    124\u001B[0m \u001B[43m        \u001B[49m\u001B[43mstdout\u001B[49m\u001B[38;5;241;43m=\u001B[39;49m\u001B[43msubprocess\u001B[49m\u001B[38;5;241;43m.\u001B[39;49m\u001B[43mPIPE\u001B[49m\u001B[43m,\u001B[49m\n\u001B[0;32m    125\u001B[0m \u001B[43m        \u001B[49m\u001B[43mstderr\u001B[49m\u001B[38;5;241;43m=\u001B[39;49m\u001B[43msubprocess\u001B[49m\u001B[38;5;241;43m.\u001B[39;49m\u001B[43mPIPE\u001B[49m\u001B[43m,\u001B[49m\n\u001B[0;32m    126\u001B[0m \u001B[43m        \u001B[49m\u001B[43mstdin\u001B[49m\u001B[38;5;241;43m=\u001B[39;49m\u001B[43msubprocess\u001B[49m\u001B[38;5;241;43m.\u001B[39;49m\u001B[43mDEVNULL\u001B[49m\u001B[43m,\u001B[49m\n\u001B[0;32m    127\u001B[0m \u001B[43m        \u001B[49m\u001B[43mcheck\u001B[49m\u001B[38;5;241;43m=\u001B[39;49m\u001B[38;5;28;43;01mTrue\u001B[39;49;00m\u001B[43m,\u001B[49m\n\u001B[0;32m    128\u001B[0m \u001B[43m    \u001B[49m\u001B[43m)\u001B[49m\n\u001B[0;32m    129\u001B[0m     \u001B[38;5;28;01mif\u001B[39;00m result\u001B[38;5;241m.\u001B[39mstderr:\n",
      "File \u001B[1;32m~\\AppData\\Local\\Programs\\Python\\Python39\\lib\\subprocess.py:505\u001B[0m, in \u001B[0;36mrun\u001B[1;34m(input, capture_output, timeout, check, *popenargs, **kwargs)\u001B[0m\n\u001B[0;32m    503\u001B[0m     kwargs[\u001B[38;5;124m'\u001B[39m\u001B[38;5;124mstderr\u001B[39m\u001B[38;5;124m'\u001B[39m] \u001B[38;5;241m=\u001B[39m PIPE\n\u001B[1;32m--> 505\u001B[0m \u001B[38;5;28;01mwith\u001B[39;00m Popen(\u001B[38;5;241m*\u001B[39mpopenargs, \u001B[38;5;241m*\u001B[39m\u001B[38;5;241m*\u001B[39mkwargs) \u001B[38;5;28;01mas\u001B[39;00m process:\n\u001B[0;32m    506\u001B[0m     \u001B[38;5;28;01mtry\u001B[39;00m:\n",
      "File \u001B[1;32m~\\AppData\\Local\\Programs\\Python\\Python39\\lib\\subprocess.py:951\u001B[0m, in \u001B[0;36mPopen.__init__\u001B[1;34m(self, args, bufsize, executable, stdin, stdout, stderr, preexec_fn, close_fds, shell, cwd, env, universal_newlines, startupinfo, creationflags, restore_signals, start_new_session, pass_fds, user, group, extra_groups, encoding, errors, text, umask)\u001B[0m\n\u001B[0;32m    948\u001B[0m             \u001B[38;5;28mself\u001B[39m\u001B[38;5;241m.\u001B[39mstderr \u001B[38;5;241m=\u001B[39m io\u001B[38;5;241m.\u001B[39mTextIOWrapper(\u001B[38;5;28mself\u001B[39m\u001B[38;5;241m.\u001B[39mstderr,\n\u001B[0;32m    949\u001B[0m                     encoding\u001B[38;5;241m=\u001B[39mencoding, errors\u001B[38;5;241m=\u001B[39merrors)\n\u001B[1;32m--> 951\u001B[0m     \u001B[38;5;28;43mself\u001B[39;49m\u001B[38;5;241;43m.\u001B[39;49m\u001B[43m_execute_child\u001B[49m\u001B[43m(\u001B[49m\u001B[43margs\u001B[49m\u001B[43m,\u001B[49m\u001B[43m \u001B[49m\u001B[43mexecutable\u001B[49m\u001B[43m,\u001B[49m\u001B[43m \u001B[49m\u001B[43mpreexec_fn\u001B[49m\u001B[43m,\u001B[49m\u001B[43m \u001B[49m\u001B[43mclose_fds\u001B[49m\u001B[43m,\u001B[49m\n\u001B[0;32m    952\u001B[0m \u001B[43m                        \u001B[49m\u001B[43mpass_fds\u001B[49m\u001B[43m,\u001B[49m\u001B[43m \u001B[49m\u001B[43mcwd\u001B[49m\u001B[43m,\u001B[49m\u001B[43m \u001B[49m\u001B[43menv\u001B[49m\u001B[43m,\u001B[49m\n\u001B[0;32m    953\u001B[0m \u001B[43m                        \u001B[49m\u001B[43mstartupinfo\u001B[49m\u001B[43m,\u001B[49m\u001B[43m \u001B[49m\u001B[43mcreationflags\u001B[49m\u001B[43m,\u001B[49m\u001B[43m \u001B[49m\u001B[43mshell\u001B[49m\u001B[43m,\u001B[49m\n\u001B[0;32m    954\u001B[0m \u001B[43m                        \u001B[49m\u001B[43mp2cread\u001B[49m\u001B[43m,\u001B[49m\u001B[43m \u001B[49m\u001B[43mp2cwrite\u001B[49m\u001B[43m,\u001B[49m\n\u001B[0;32m    955\u001B[0m \u001B[43m                        \u001B[49m\u001B[43mc2pread\u001B[49m\u001B[43m,\u001B[49m\u001B[43m \u001B[49m\u001B[43mc2pwrite\u001B[49m\u001B[43m,\u001B[49m\n\u001B[0;32m    956\u001B[0m \u001B[43m                        \u001B[49m\u001B[43merrread\u001B[49m\u001B[43m,\u001B[49m\u001B[43m \u001B[49m\u001B[43merrwrite\u001B[49m\u001B[43m,\u001B[49m\n\u001B[0;32m    957\u001B[0m \u001B[43m                        \u001B[49m\u001B[43mrestore_signals\u001B[49m\u001B[43m,\u001B[49m\n\u001B[0;32m    958\u001B[0m \u001B[43m                        \u001B[49m\u001B[43mgid\u001B[49m\u001B[43m,\u001B[49m\u001B[43m \u001B[49m\u001B[43mgids\u001B[49m\u001B[43m,\u001B[49m\u001B[43m \u001B[49m\u001B[43muid\u001B[49m\u001B[43m,\u001B[49m\u001B[43m \u001B[49m\u001B[43mumask\u001B[49m\u001B[43m,\u001B[49m\n\u001B[0;32m    959\u001B[0m \u001B[43m                        \u001B[49m\u001B[43mstart_new_session\u001B[49m\u001B[43m)\u001B[49m\n\u001B[0;32m    960\u001B[0m \u001B[38;5;28;01mexcept\u001B[39;00m:\n\u001B[0;32m    961\u001B[0m     \u001B[38;5;66;03m# Cleanup if the child failed starting.\u001B[39;00m\n",
      "File \u001B[1;32m~\\AppData\\Local\\Programs\\Python\\Python39\\lib\\subprocess.py:1420\u001B[0m, in \u001B[0;36mPopen._execute_child\u001B[1;34m(self, args, executable, preexec_fn, close_fds, pass_fds, cwd, env, startupinfo, creationflags, shell, p2cread, p2cwrite, c2pread, c2pwrite, errread, errwrite, unused_restore_signals, unused_gid, unused_gids, unused_uid, unused_umask, unused_start_new_session)\u001B[0m\n\u001B[0;32m   1419\u001B[0m \u001B[38;5;28;01mtry\u001B[39;00m:\n\u001B[1;32m-> 1420\u001B[0m     hp, ht, pid, tid \u001B[38;5;241m=\u001B[39m \u001B[43m_winapi\u001B[49m\u001B[38;5;241;43m.\u001B[39;49m\u001B[43mCreateProcess\u001B[49m\u001B[43m(\u001B[49m\u001B[43mexecutable\u001B[49m\u001B[43m,\u001B[49m\u001B[43m \u001B[49m\u001B[43margs\u001B[49m\u001B[43m,\u001B[49m\n\u001B[0;32m   1421\u001B[0m \u001B[43m                             \u001B[49m\u001B[38;5;66;43;03m# no special security\u001B[39;49;00m\n\u001B[0;32m   1422\u001B[0m \u001B[43m                             \u001B[49m\u001B[38;5;28;43;01mNone\u001B[39;49;00m\u001B[43m,\u001B[49m\u001B[43m \u001B[49m\u001B[38;5;28;43;01mNone\u001B[39;49;00m\u001B[43m,\u001B[49m\n\u001B[0;32m   1423\u001B[0m \u001B[43m                             \u001B[49m\u001B[38;5;28;43mint\u001B[39;49m\u001B[43m(\u001B[49m\u001B[38;5;129;43;01mnot\u001B[39;49;00m\u001B[43m \u001B[49m\u001B[43mclose_fds\u001B[49m\u001B[43m)\u001B[49m\u001B[43m,\u001B[49m\n\u001B[0;32m   1424\u001B[0m \u001B[43m                             \u001B[49m\u001B[43mcreationflags\u001B[49m\u001B[43m,\u001B[49m\n\u001B[0;32m   1425\u001B[0m \u001B[43m                             \u001B[49m\u001B[43menv\u001B[49m\u001B[43m,\u001B[49m\n\u001B[0;32m   1426\u001B[0m \u001B[43m                             \u001B[49m\u001B[43mcwd\u001B[49m\u001B[43m,\u001B[49m\n\u001B[0;32m   1427\u001B[0m \u001B[43m                             \u001B[49m\u001B[43mstartupinfo\u001B[49m\u001B[43m)\u001B[49m\n\u001B[0;32m   1428\u001B[0m \u001B[38;5;28;01mfinally\u001B[39;00m:\n\u001B[0;32m   1429\u001B[0m     \u001B[38;5;66;03m# Child is launched. Close the parent's copy of those pipe\u001B[39;00m\n\u001B[0;32m   1430\u001B[0m     \u001B[38;5;66;03m# handles that only the child should have open.  You need\u001B[39;00m\n\u001B[1;32m   (...)\u001B[0m\n\u001B[0;32m   1433\u001B[0m     \u001B[38;5;66;03m# pipe will not close when the child process exits and the\u001B[39;00m\n\u001B[0;32m   1434\u001B[0m     \u001B[38;5;66;03m# ReadFile will hang.\u001B[39;00m\n",
      "\u001B[1;31mFileNotFoundError\u001B[0m: [WinError 2] The system cannot find the file specified",
      "\nDuring handling of the above exception, another exception occurred:\n",
      "\u001B[1;31mJavaNotFoundError\u001B[0m                         Traceback (most recent call last)",
      "Cell \u001B[1;32mIn[5], line 4\u001B[0m\n\u001B[0;32m      1\u001B[0m \u001B[38;5;28;01mimport\u001B[39;00m \u001B[38;5;21;01mtabula\u001B[39;00m\n\u001B[0;32m      3\u001B[0m \u001B[38;5;66;03m# Read PDF file and extract tables\u001B[39;00m\n\u001B[1;32m----> 4\u001B[0m dfs \u001B[38;5;241m=\u001B[39m \u001B[43mtabula\u001B[49m\u001B[38;5;241;43m.\u001B[39;49m\u001B[43mread_pdf\u001B[49m\u001B[43m(\u001B[49m\u001B[38;5;124;43m'\u001B[39;49m\u001B[38;5;124;43moutput.pdf\u001B[39;49m\u001B[38;5;124;43m'\u001B[39;49m\u001B[43m,\u001B[49m\u001B[43m \u001B[49m\u001B[43mpages\u001B[49m\u001B[38;5;241;43m=\u001B[39;49m\u001B[38;5;124;43m'\u001B[39;49m\u001B[38;5;124;43mall\u001B[39;49m\u001B[38;5;124;43m'\u001B[39;49m\u001B[43m)\u001B[49m\n\u001B[0;32m      6\u001B[0m \u001B[38;5;66;03m# Number of tables extracted\u001B[39;00m\n\u001B[0;32m      7\u001B[0m \u001B[38;5;28mprint\u001B[39m(\u001B[38;5;28mlen\u001B[39m(dfs))\n",
      "File \u001B[1;32m~\\AppData\\Local\\Programs\\Python\\Python39\\lib\\site-packages\\tabula\\io.py:400\u001B[0m, in \u001B[0;36mread_pdf\u001B[1;34m(input_path, output_format, encoding, java_options, pandas_options, multiple_tables, user_agent, use_raw_url, pages, guess, area, relative_area, lattice, stream, password, silent, columns, relative_columns, format, batch, output_path, force_subprocess, options)\u001B[0m\n\u001B[0;32m    397\u001B[0m     \u001B[38;5;28;01mraise\u001B[39;00m \u001B[38;5;167;01mValueError\u001B[39;00m(\u001B[38;5;124mf\u001B[39m\u001B[38;5;124m\"\u001B[39m\u001B[38;5;132;01m{\u001B[39;00mpath\u001B[38;5;132;01m}\u001B[39;00m\u001B[38;5;124m is empty. Check the file, or download it manually.\u001B[39m\u001B[38;5;124m\"\u001B[39m)\n\u001B[0;32m    399\u001B[0m \u001B[38;5;28;01mtry\u001B[39;00m:\n\u001B[1;32m--> 400\u001B[0m     output \u001B[38;5;241m=\u001B[39m \u001B[43m_run\u001B[49m\u001B[43m(\u001B[49m\n\u001B[0;32m    401\u001B[0m \u001B[43m        \u001B[49m\u001B[43mtabula_options\u001B[49m\u001B[43m,\u001B[49m\n\u001B[0;32m    402\u001B[0m \u001B[43m        \u001B[49m\u001B[43mjava_options\u001B[49m\u001B[43m,\u001B[49m\n\u001B[0;32m    403\u001B[0m \u001B[43m        \u001B[49m\u001B[43mpath\u001B[49m\u001B[43m,\u001B[49m\n\u001B[0;32m    404\u001B[0m \u001B[43m        \u001B[49m\u001B[43mencoding\u001B[49m\u001B[38;5;241;43m=\u001B[39;49m\u001B[43mencoding\u001B[49m\u001B[43m,\u001B[49m\n\u001B[0;32m    405\u001B[0m \u001B[43m        \u001B[49m\u001B[43mforce_subprocess\u001B[49m\u001B[38;5;241;43m=\u001B[39;49m\u001B[43mforce_subprocess\u001B[49m\u001B[43m,\u001B[49m\n\u001B[0;32m    406\u001B[0m \u001B[43m    \u001B[49m\u001B[43m)\u001B[49m\n\u001B[0;32m    407\u001B[0m \u001B[38;5;28;01mfinally\u001B[39;00m:\n\u001B[0;32m    408\u001B[0m     \u001B[38;5;28;01mif\u001B[39;00m temporary:\n",
      "File \u001B[1;32m~\\AppData\\Local\\Programs\\Python\\Python39\\lib\\site-packages\\tabula\\io.py:86\u001B[0m, in \u001B[0;36m_run\u001B[1;34m(options, java_options, path, encoding, force_subprocess)\u001B[0m\n\u001B[0;32m     83\u001B[0m \u001B[38;5;28;01melif\u001B[39;00m \u001B[38;5;28mset\u001B[39m(java_options) \u001B[38;5;241m-\u001B[39m IGNORED_JAVA_OPTIONS:\n\u001B[0;32m     84\u001B[0m     logger\u001B[38;5;241m.\u001B[39mwarning(\u001B[38;5;124m\"\u001B[39m\u001B[38;5;124mjava_options is ignored until rebooting the Python process.\u001B[39m\u001B[38;5;124m\"\u001B[39m)\n\u001B[1;32m---> 86\u001B[0m \u001B[38;5;28;01mreturn\u001B[39;00m \u001B[43m_tabula_vm\u001B[49m\u001B[38;5;241;43m.\u001B[39;49m\u001B[43mcall_tabula_java\u001B[49m\u001B[43m(\u001B[49m\u001B[43moptions\u001B[49m\u001B[43m,\u001B[49m\u001B[43m \u001B[49m\u001B[43mpath\u001B[49m\u001B[43m)\u001B[49m\n",
      "File \u001B[1;32m~\\AppData\\Local\\Programs\\Python\\Python39\\lib\\site-packages\\tabula\\backend.py:133\u001B[0m, in \u001B[0;36mSubprocessTabula.call_tabula_java\u001B[1;34m(self, options, path)\u001B[0m\n\u001B[0;32m    131\u001B[0m     \u001B[38;5;28;01mreturn\u001B[39;00m result\u001B[38;5;241m.\u001B[39mstdout\u001B[38;5;241m.\u001B[39mdecode(\u001B[38;5;28mself\u001B[39m\u001B[38;5;241m.\u001B[39mencoding)\n\u001B[0;32m    132\u001B[0m \u001B[38;5;28;01mexcept\u001B[39;00m \u001B[38;5;167;01mFileNotFoundError\u001B[39;00m:\n\u001B[1;32m--> 133\u001B[0m     \u001B[38;5;28;01mraise\u001B[39;00m JavaNotFoundError(JAVA_NOT_FOUND_ERROR)\n\u001B[0;32m    134\u001B[0m \u001B[38;5;28;01mexcept\u001B[39;00m subprocess\u001B[38;5;241m.\u001B[39mCalledProcessError \u001B[38;5;28;01mas\u001B[39;00m e:\n\u001B[0;32m    135\u001B[0m     logger\u001B[38;5;241m.\u001B[39merror(\u001B[38;5;124mf\u001B[39m\u001B[38;5;124m\"\u001B[39m\u001B[38;5;124mError from tabula-java:\u001B[39m\u001B[38;5;130;01m\\n\u001B[39;00m\u001B[38;5;132;01m{\u001B[39;00me\u001B[38;5;241m.\u001B[39mstderr\u001B[38;5;241m.\u001B[39mdecode(\u001B[38;5;28mself\u001B[39m\u001B[38;5;241m.\u001B[39mencoding)\u001B[38;5;132;01m}\u001B[39;00m\u001B[38;5;130;01m\\n\u001B[39;00m\u001B[38;5;124m\"\u001B[39m)\n",
      "\u001B[1;31mJavaNotFoundError\u001B[0m: `java` command is not found from this Python process.Please ensure Java is installed and PATH is set for `java`"
     ]
    }
   ],
   "execution_count": 5
  },
  {
   "cell_type": "code",
   "source": [
    "#!pip install pdfplumber"
   ],
   "metadata": {
    "colab": {
     "base_uri": "https://localhost:8080/"
    },
    "id": "_LkmqKbsPc-5",
    "executionInfo": {
     "status": "ok",
     "timestamp": 1722510538329,
     "user_tz": -330,
     "elapsed": 2808,
     "user": {
      "displayName": "Yeran Fernando",
      "userId": "15923403016209877292"
     }
    },
    "outputId": "a3c9dce1-0c51-44c8-a6f0-f90035ff126f"
   },
   "execution_count": null,
   "outputs": [
    {
     "output_type": "stream",
     "name": "stdout",
     "text": [
      "Requirement already satisfied: pdfplumber in /usr/local/lib/python3.10/dist-packages (0.11.2)\n",
      "Requirement already satisfied: pdfminer.six==20231228 in /usr/local/lib/python3.10/dist-packages (from pdfplumber) (20231228)\n",
      "Requirement already satisfied: Pillow>=9.1 in /usr/local/lib/python3.10/dist-packages (from pdfplumber) (9.4.0)\n",
      "Requirement already satisfied: pypdfium2>=4.18.0 in /usr/local/lib/python3.10/dist-packages (from pdfplumber) (4.30.0)\n",
      "Requirement already satisfied: charset-normalizer>=2.0.0 in /usr/local/lib/python3.10/dist-packages (from pdfminer.six==20231228->pdfplumber) (3.3.2)\n",
      "Requirement already satisfied: cryptography>=36.0.0 in /usr/local/lib/python3.10/dist-packages (from pdfminer.six==20231228->pdfplumber) (42.0.8)\n",
      "Requirement already satisfied: cffi>=1.12 in /usr/local/lib/python3.10/dist-packages (from cryptography>=36.0.0->pdfminer.six==20231228->pdfplumber) (1.16.0)\n",
      "Requirement already satisfied: pycparser in /usr/local/lib/python3.10/dist-packages (from cffi>=1.12->cryptography>=36.0.0->pdfminer.six==20231228->pdfplumber) (2.22)\n"
     ]
    }
   ]
  },
  {
   "cell_type": "code",
   "source": [
    "import pdfplumber\n",
    "table = [[]]\n",
    "pdf_path = \"Purchasing Enquiry - CA-9009-L24-2466.pdf\"\n",
    "with pdfplumber.open(pdf_path) as doc:\n",
    "    for i in doc.pages:\n",
    "        print(i.extract_tables())\n",
    "        table = i.extract_tables()"
   ],
   "metadata": {
    "colab": {
     "base_uri": "https://localhost:8080/"
    },
    "id": "YLaXojKfP5I4",
    "executionInfo": {
     "status": "ok",
     "timestamp": 1722510540566,
     "user_tz": -330,
     "elapsed": 519,
     "user": {
      "displayName": "Yeran Fernando",
      "userId": "15923403016209877292"
     }
    },
    "outputId": "c8ccec68-c98c-4cce-8df0-4385d7c94a5e"
   },
   "execution_count": null,
   "outputs": [
    {
     "output_type": "stream",
     "name": "stdout",
     "text": [
      "[[['COLOMBO DOCKYARD PLC\\nPort of Colombo, Colombo 15,\\nSri Lanka.', 'PURCHASING ENQUIRY\\n(IMPORT)', 'Tel: (Supplies) 0094 112522230\\nTel: (General) 0094 112429000\\nFax : +94 112523165, 2345863']], [['Atten', 'MR. HU/ MS.GIFT', 'Ref No', 'CA-9009-L24-2466'], ['Supplier', 'OTC DAIHEN ASIA CO., LTD', 'Date', '2024-6-6'], ['Fax Number', '0066-2714-3204', 'Supplier E mail', 'hu@otc.co.th, i-sales-2@otc.co.th,\\nyfj999@gmail.com'], ['Country', 'THAILAND', None, None]], [['Project Number', 'CA/9009', 'Nature of Ordering', 'Urgent'], ['Contact Person', 'K.H.S.SUJEEWA', 'Mode of Dispatch', 'Sea'], ['Designation', 'Not Available', 'Mode of Shipment', 'Consolidated'], ['E mail', '', 'Quotation Required', '2024-06-06']], [['No', 'Item Description / Specification', 'Unit', 'Quantity', 'Remarks'], ['1', 'CO2/MAG WELDING MACHINE DYNA AUTO, XD\\n350\\n------------------------------------------------------\\nMAKER - OTC DAIHEN CORPORATION\\nMODEL - DYNA AUTO XD 350\\nCONSISTING OF ACCESSORIES,\\n1. POWER SUPPLY - CPXD 350\\n2. WIRE FEEDER - CM 2302\\n3. WELDING TORCH - WTCX 350D (6mts long)\\n4. REMOTE CONTROL UNIT - PART NO XD 350 S\\nComplete with 22 Mtrs long Positive cable, Gase\\nhose & Control cable\\n(Connection sockets to be provided about 1.5Mts\\nfrom power supply unit)\\nComplete with all accessories', 'NOS', '10.00', '']]]\n"
     ]
    }
   ]
  },
  {
   "cell_type": "code",
   "source": [
    "print(table[1])"
   ],
   "metadata": {
    "colab": {
     "base_uri": "https://localhost:8080/"
    },
    "id": "52BSvnguQROz",
    "executionInfo": {
     "status": "ok",
     "timestamp": 1722510542497,
     "user_tz": -330,
     "elapsed": 2,
     "user": {
      "displayName": "Yeran Fernando",
      "userId": "15923403016209877292"
     }
    },
    "outputId": "fb0e9c86-8a7c-4504-9d35-854a7c582e1a"
   },
   "execution_count": null,
   "outputs": [
    {
     "output_type": "stream",
     "name": "stdout",
     "text": [
      "[['Atten', 'MR. HU/ MS.GIFT', 'Ref No', 'CA-9009-L24-2466'], ['Supplier', 'OTC DAIHEN ASIA CO., LTD', 'Date', '2024-6-6'], ['Fax Number', '0066-2714-3204', 'Supplier E mail', 'hu@otc.co.th, i-sales-2@otc.co.th,\\nyfj999@gmail.com'], ['Country', 'THAILAND', None, None]]\n"
     ]
    }
   ]
  },
  {
   "cell_type": "code",
   "source": [
    "supplier = company[1][1]\n",
    "print(supplier)\n",
    "\n",
    "date = company[1][3]\n",
    "print(date)"
   ],
   "metadata": {
    "colab": {
     "base_uri": "https://localhost:8080/"
    },
    "id": "d8UiTk7hoHHr",
    "executionInfo": {
     "status": "ok",
     "timestamp": 1722510543789,
     "user_tz": -330,
     "elapsed": 2,
     "user": {
      "displayName": "Yeran Fernando",
      "userId": "15923403016209877292"
     }
    },
    "outputId": "5db3b4ee-3f97-4d71-e3c8-d87a14c18082"
   },
   "execution_count": null,
   "outputs": [
    {
     "output_type": "stream",
     "name": "stdout",
     "text": [
      "OTC DAIHEN ASIA CO., LTD\n",
      "2024-6-6\n"
     ]
    }
   ]
  },
  {
   "cell_type": "code",
   "source": [
    "company = table[1]\n",
    "print(company)"
   ],
   "metadata": {
    "colab": {
     "base_uri": "https://localhost:8080/"
    },
    "id": "ujKLIJI8SwRq",
    "executionInfo": {
     "status": "ok",
     "timestamp": 1722510546686,
     "user_tz": -330,
     "elapsed": 518,
     "user": {
      "displayName": "Yeran Fernando",
      "userId": "15923403016209877292"
     }
    },
    "outputId": "3ecb34b9-e1d3-4700-ac40-e2b8b8c932db"
   },
   "execution_count": null,
   "outputs": [
    {
     "output_type": "stream",
     "name": "stdout",
     "text": [
      "[['Atten', 'MR. HU/ MS.GIFT', 'Ref No', 'CA-9009-L24-2466'], ['Supplier', 'OTC DAIHEN ASIA CO., LTD', 'Date', '2024-6-6'], ['Fax Number', '0066-2714-3204', 'Supplier E mail', 'hu@otc.co.th, i-sales-2@otc.co.th,\\nyfj999@gmail.com'], ['Country', 'THAILAND', None, None]]\n"
     ]
    }
   ]
  },
  {
   "cell_type": "code",
   "source": [
    "import pandas as pd\n",
    "# Extracting column names and values\n",
    "columns = [item[0] for item in company] + [item[2] for item in company if item[2]]\n",
    "values = [item[1] for item in company] + [item[3] for item in company if item[3]]\n",
    "\n",
    "# Create the DataFrame\n",
    "suppliers = pd.DataFrame([values], columns=columns)\n",
    "\n",
    "suppliers = suppliers.drop(columns=['Date'])\n",
    "# Display the DataFrame\n",
    "print(suppliers)"
   ],
   "metadata": {
    "colab": {
     "base_uri": "https://localhost:8080/"
    },
    "id": "7y4p8slbWAaw",
    "executionInfo": {
     "status": "ok",
     "timestamp": 1722510549292,
     "user_tz": -330,
     "elapsed": 513,
     "user": {
      "displayName": "Yeran Fernando",
      "userId": "15923403016209877292"
     }
    },
    "outputId": "063e2491-f2bd-4b65-a52b-5b09d262d5fd"
   },
   "execution_count": null,
   "outputs": [
    {
     "output_type": "stream",
     "name": "stdout",
     "text": [
      "             Atten                  Supplier      Fax Number   Country  \\\n",
      "0  MR. HU/ MS.GIFT  OTC DAIHEN ASIA CO., LTD  0066-2714-3204  THAILAND   \n",
      "\n",
      "             Ref No                                    Supplier E mail  \n",
      "0  CA-9009-L24-2466  hu@otc.co.th, i-sales-2@otc.co.th,\\nyfj999@gma...  \n"
     ]
    }
   ]
  },
  {
   "cell_type": "code",
   "source": [
    "orderList = table[3]\n",
    "print(orderList)\n",
    "\n",
    "additional_details = table[2]"
   ],
   "metadata": {
    "colab": {
     "base_uri": "https://localhost:8080/"
    },
    "id": "bC20mlKqXWR9",
    "executionInfo": {
     "status": "ok",
     "timestamp": 1722513195623,
     "user_tz": -330,
     "elapsed": 408,
     "user": {
      "displayName": "Yeran Fernando",
      "userId": "15923403016209877292"
     }
    },
    "outputId": "33bc0182-816a-42ee-e60b-d937fb80252a"
   },
   "execution_count": null,
   "outputs": [
    {
     "output_type": "stream",
     "name": "stdout",
     "text": [
      "[['No', 'Item Description / Specification', 'Unit', 'Quantity', 'Remarks'], ['1', 'CO2/MAG WELDING MACHINE DYNA AUTO, XD\\n350\\n------------------------------------------------------\\nMAKER - OTC DAIHEN CORPORATION\\nMODEL - DYNA AUTO XD 350\\nCONSISTING OF ACCESSORIES,\\n1. POWER SUPPLY - CPXD 350\\n2. WIRE FEEDER - CM 2302\\n3. WELDING TORCH - WTCX 350D (6mts long)\\n4. REMOTE CONTROL UNIT - PART NO XD 350 S\\nComplete with 22 Mtrs long Positive cable, Gase\\nhose & Control cable\\n(Connection sockets to be provided about 1.5Mts\\nfrom power supply unit)\\nComplete with all accessories', 'NOS', '10.00', '']]\n"
     ]
    }
   ]
  },
  {
   "cell_type": "code",
   "source": [
    "# Create the DataFrame\n",
    "orders = pd.DataFrame(orderList[1:], columns=orderList[0])\n",
    "\n",
    "# Add the supplier and date columns\n",
    "orders['Supplier'] = supplier\n",
    "orders['Date'] = date\n",
    "\n",
    "# Extract and add the additional details columns\n",
    "for detail in additional_details:\n",
    "    column1, value1, column2, value2 = detail\n",
    "    orders[column1] = value1\n",
    "    orders[column2] = value2\n",
    "\n",
    "# Reorder the columns to place Supplier first\n",
    "column_order = ['Supplier', 'No', 'Item Description / Specification', 'Unit', 'Quantity', 'Remarks', 'Date']\n",
    "additional_columns = [detail[i] for detail in additional_details for i in [0, 2]]\n",
    "column_order.extend(additional_columns)\n",
    "orders = orders[column_order]\n",
    "\n",
    "\n",
    "orders = orders.drop(columns=['No'])\n",
    "\n",
    "# Reorder the columns to place Supplier first\n",
    "#orders = orders[['Supplier', 'Item Description / Specification', 'Unit', 'Quantity', 'Remarks', 'Date']]\n",
    "\n",
    "# Print the DataFrame\n",
    "print(orders)\n"
   ],
   "metadata": {
    "colab": {
     "base_uri": "https://localhost:8080/"
    },
    "id": "DUM7_EGgjTT-",
    "executionInfo": {
     "status": "ok",
     "timestamp": 1722513197975,
     "user_tz": -330,
     "elapsed": 410,
     "user": {
      "displayName": "Yeran Fernando",
      "userId": "15923403016209877292"
     }
    },
    "outputId": "883e8988-c25b-46ee-e2e1-115aca55fa02"
   },
   "execution_count": null,
   "outputs": [
    {
     "output_type": "stream",
     "name": "stdout",
     "text": [
      "                   Supplier  \\\n",
      "0  OTC DAIHEN ASIA CO., LTD   \n",
      "\n",
      "                    Item Description / Specification Unit Quantity Remarks  \\\n",
      "0  CO2/MAG WELDING MACHINE DYNA AUTO, XD\\n350\\n--...  NOS    10.00           \n",
      "\n",
      "       Date Project Number Nature of Ordering Contact Person Mode of Dispatch  \\\n",
      "0  2024-6-6        CA/9009             Urgent  K.H.S.SUJEEWA              Sea   \n",
      "\n",
      "     Designation Mode of Shipment E mail Quotation Required  \n",
      "0  Not Available     Consolidated                2024-06-06  \n"
     ]
    }
   ]
  },
  {
   "cell_type": "code",
   "source": [
    "print(table[2])"
   ],
   "metadata": {
    "colab": {
     "base_uri": "https://localhost:8080/"
    },
    "id": "S_u1Qd8Nu9SZ",
    "executionInfo": {
     "status": "ok",
     "timestamp": 1722512326063,
     "user_tz": -330,
     "elapsed": 2,
     "user": {
      "displayName": "Yeran Fernando",
      "userId": "15923403016209877292"
     }
    },
    "outputId": "f14c2cb2-00a0-44c8-80f2-a7f084c1c8d6"
   },
   "execution_count": null,
   "outputs": [
    {
     "output_type": "stream",
     "name": "stdout",
     "text": [
      "[['Project Number', 'CA/9009', 'Nature of Ordering', 'Urgent'], ['Contact Person', 'K.H.S.SUJEEWA', 'Mode of Dispatch', 'Sea'], ['Designation', 'Not Available', 'Mode of Shipment', 'Consolidated'], ['E mail', '', 'Quotation Required', '2024-06-06']]\n"
     ]
    }
   ]
  },
  {
   "metadata": {
    "ExecuteTime": {
     "end_time": "2024-09-18T05:41:32.960471Z",
     "start_time": "2024-09-18T05:41:32.949471Z"
    }
   },
   "cell_type": "code",
   "source": [
    "combinations = []\n",
    "\n",
    "for count_100 in range(0, 101, 100):\n",
    "    for count_50 in range(0, 101, 50):\n",
    "        for count_25 in range(0,101, 25):\n",
    "            for count_10 in range(0, 101, 10):\n",
    "                for count_5 in range(0, 101, 5):\n",
    "                    total_so_far = count_100 + count_50 + count_25 + count_10 + count_5\n",
    "                    if total_so_far <= 100:\n",
    "                        combinations.append([count_100, count_50, count_25, count_10, count_5, 100-total_so_far])\n",
    "            \n",
    "        "
   ],
   "outputs": [],
   "execution_count": 1
  },
  {
   "metadata": {
    "ExecuteTime": {
     "end_time": "2024-09-18T05:50:14.882107Z",
     "start_time": "2024-09-18T05:50:14.869110Z"
    }
   },
   "cell_type": "code",
   "source": "combinations",
   "outputs": [
    {
     "data": {
      "text/plain": [
       "[[0, 0, 0, 0, 0, 100],\n",
       " [0, 0, 0, 0, 5, 95],\n",
       " [0, 0, 0, 0, 10, 90],\n",
       " [0, 0, 0, 0, 15, 85],\n",
       " [0, 0, 0, 0, 20, 80],\n",
       " [0, 0, 0, 0, 25, 75],\n",
       " [0, 0, 0, 0, 30, 70],\n",
       " [0, 0, 0, 0, 35, 65],\n",
       " [0, 0, 0, 0, 40, 60],\n",
       " [0, 0, 0, 0, 45, 55],\n",
       " [0, 0, 0, 0, 50, 50],\n",
       " [0, 0, 0, 0, 55, 45],\n",
       " [0, 0, 0, 0, 60, 40],\n",
       " [0, 0, 0, 0, 65, 35],\n",
       " [0, 0, 0, 0, 70, 30],\n",
       " [0, 0, 0, 0, 75, 25],\n",
       " [0, 0, 0, 0, 80, 20],\n",
       " [0, 0, 0, 0, 85, 15],\n",
       " [0, 0, 0, 0, 90, 10],\n",
       " [0, 0, 0, 0, 95, 5],\n",
       " [0, 0, 0, 0, 100, 0],\n",
       " [0, 0, 0, 10, 0, 90],\n",
       " [0, 0, 0, 10, 5, 85],\n",
       " [0, 0, 0, 10, 10, 80],\n",
       " [0, 0, 0, 10, 15, 75],\n",
       " [0, 0, 0, 10, 20, 70],\n",
       " [0, 0, 0, 10, 25, 65],\n",
       " [0, 0, 0, 10, 30, 60],\n",
       " [0, 0, 0, 10, 35, 55],\n",
       " [0, 0, 0, 10, 40, 50],\n",
       " [0, 0, 0, 10, 45, 45],\n",
       " [0, 0, 0, 10, 50, 40],\n",
       " [0, 0, 0, 10, 55, 35],\n",
       " [0, 0, 0, 10, 60, 30],\n",
       " [0, 0, 0, 10, 65, 25],\n",
       " [0, 0, 0, 10, 70, 20],\n",
       " [0, 0, 0, 10, 75, 15],\n",
       " [0, 0, 0, 10, 80, 10],\n",
       " [0, 0, 0, 10, 85, 5],\n",
       " [0, 0, 0, 10, 90, 0],\n",
       " [0, 0, 0, 20, 0, 80],\n",
       " [0, 0, 0, 20, 5, 75],\n",
       " [0, 0, 0, 20, 10, 70],\n",
       " [0, 0, 0, 20, 15, 65],\n",
       " [0, 0, 0, 20, 20, 60],\n",
       " [0, 0, 0, 20, 25, 55],\n",
       " [0, 0, 0, 20, 30, 50],\n",
       " [0, 0, 0, 20, 35, 45],\n",
       " [0, 0, 0, 20, 40, 40],\n",
       " [0, 0, 0, 20, 45, 35],\n",
       " [0, 0, 0, 20, 50, 30],\n",
       " [0, 0, 0, 20, 55, 25],\n",
       " [0, 0, 0, 20, 60, 20],\n",
       " [0, 0, 0, 20, 65, 15],\n",
       " [0, 0, 0, 20, 70, 10],\n",
       " [0, 0, 0, 20, 75, 5],\n",
       " [0, 0, 0, 20, 80, 0],\n",
       " [0, 0, 0, 30, 0, 70],\n",
       " [0, 0, 0, 30, 5, 65],\n",
       " [0, 0, 0, 30, 10, 60],\n",
       " [0, 0, 0, 30, 15, 55],\n",
       " [0, 0, 0, 30, 20, 50],\n",
       " [0, 0, 0, 30, 25, 45],\n",
       " [0, 0, 0, 30, 30, 40],\n",
       " [0, 0, 0, 30, 35, 35],\n",
       " [0, 0, 0, 30, 40, 30],\n",
       " [0, 0, 0, 30, 45, 25],\n",
       " [0, 0, 0, 30, 50, 20],\n",
       " [0, 0, 0, 30, 55, 15],\n",
       " [0, 0, 0, 30, 60, 10],\n",
       " [0, 0, 0, 30, 65, 5],\n",
       " [0, 0, 0, 30, 70, 0],\n",
       " [0, 0, 0, 40, 0, 60],\n",
       " [0, 0, 0, 40, 5, 55],\n",
       " [0, 0, 0, 40, 10, 50],\n",
       " [0, 0, 0, 40, 15, 45],\n",
       " [0, 0, 0, 40, 20, 40],\n",
       " [0, 0, 0, 40, 25, 35],\n",
       " [0, 0, 0, 40, 30, 30],\n",
       " [0, 0, 0, 40, 35, 25],\n",
       " [0, 0, 0, 40, 40, 20],\n",
       " [0, 0, 0, 40, 45, 15],\n",
       " [0, 0, 0, 40, 50, 10],\n",
       " [0, 0, 0, 40, 55, 5],\n",
       " [0, 0, 0, 40, 60, 0],\n",
       " [0, 0, 0, 50, 0, 50],\n",
       " [0, 0, 0, 50, 5, 45],\n",
       " [0, 0, 0, 50, 10, 40],\n",
       " [0, 0, 0, 50, 15, 35],\n",
       " [0, 0, 0, 50, 20, 30],\n",
       " [0, 0, 0, 50, 25, 25],\n",
       " [0, 0, 0, 50, 30, 20],\n",
       " [0, 0, 0, 50, 35, 15],\n",
       " [0, 0, 0, 50, 40, 10],\n",
       " [0, 0, 0, 50, 45, 5],\n",
       " [0, 0, 0, 50, 50, 0],\n",
       " [0, 0, 0, 60, 0, 40],\n",
       " [0, 0, 0, 60, 5, 35],\n",
       " [0, 0, 0, 60, 10, 30],\n",
       " [0, 0, 0, 60, 15, 25],\n",
       " [0, 0, 0, 60, 20, 20],\n",
       " [0, 0, 0, 60, 25, 15],\n",
       " [0, 0, 0, 60, 30, 10],\n",
       " [0, 0, 0, 60, 35, 5],\n",
       " [0, 0, 0, 60, 40, 0],\n",
       " [0, 0, 0, 70, 0, 30],\n",
       " [0, 0, 0, 70, 5, 25],\n",
       " [0, 0, 0, 70, 10, 20],\n",
       " [0, 0, 0, 70, 15, 15],\n",
       " [0, 0, 0, 70, 20, 10],\n",
       " [0, 0, 0, 70, 25, 5],\n",
       " [0, 0, 0, 70, 30, 0],\n",
       " [0, 0, 0, 80, 0, 20],\n",
       " [0, 0, 0, 80, 5, 15],\n",
       " [0, 0, 0, 80, 10, 10],\n",
       " [0, 0, 0, 80, 15, 5],\n",
       " [0, 0, 0, 80, 20, 0],\n",
       " [0, 0, 0, 90, 0, 10],\n",
       " [0, 0, 0, 90, 5, 5],\n",
       " [0, 0, 0, 90, 10, 0],\n",
       " [0, 0, 0, 100, 0, 0],\n",
       " [0, 0, 25, 0, 0, 75],\n",
       " [0, 0, 25, 0, 5, 70],\n",
       " [0, 0, 25, 0, 10, 65],\n",
       " [0, 0, 25, 0, 15, 60],\n",
       " [0, 0, 25, 0, 20, 55],\n",
       " [0, 0, 25, 0, 25, 50],\n",
       " [0, 0, 25, 0, 30, 45],\n",
       " [0, 0, 25, 0, 35, 40],\n",
       " [0, 0, 25, 0, 40, 35],\n",
       " [0, 0, 25, 0, 45, 30],\n",
       " [0, 0, 25, 0, 50, 25],\n",
       " [0, 0, 25, 0, 55, 20],\n",
       " [0, 0, 25, 0, 60, 15],\n",
       " [0, 0, 25, 0, 65, 10],\n",
       " [0, 0, 25, 0, 70, 5],\n",
       " [0, 0, 25, 0, 75, 0],\n",
       " [0, 0, 25, 10, 0, 65],\n",
       " [0, 0, 25, 10, 5, 60],\n",
       " [0, 0, 25, 10, 10, 55],\n",
       " [0, 0, 25, 10, 15, 50],\n",
       " [0, 0, 25, 10, 20, 45],\n",
       " [0, 0, 25, 10, 25, 40],\n",
       " [0, 0, 25, 10, 30, 35],\n",
       " [0, 0, 25, 10, 35, 30],\n",
       " [0, 0, 25, 10, 40, 25],\n",
       " [0, 0, 25, 10, 45, 20],\n",
       " [0, 0, 25, 10, 50, 15],\n",
       " [0, 0, 25, 10, 55, 10],\n",
       " [0, 0, 25, 10, 60, 5],\n",
       " [0, 0, 25, 10, 65, 0],\n",
       " [0, 0, 25, 20, 0, 55],\n",
       " [0, 0, 25, 20, 5, 50],\n",
       " [0, 0, 25, 20, 10, 45],\n",
       " [0, 0, 25, 20, 15, 40],\n",
       " [0, 0, 25, 20, 20, 35],\n",
       " [0, 0, 25, 20, 25, 30],\n",
       " [0, 0, 25, 20, 30, 25],\n",
       " [0, 0, 25, 20, 35, 20],\n",
       " [0, 0, 25, 20, 40, 15],\n",
       " [0, 0, 25, 20, 45, 10],\n",
       " [0, 0, 25, 20, 50, 5],\n",
       " [0, 0, 25, 20, 55, 0],\n",
       " [0, 0, 25, 30, 0, 45],\n",
       " [0, 0, 25, 30, 5, 40],\n",
       " [0, 0, 25, 30, 10, 35],\n",
       " [0, 0, 25, 30, 15, 30],\n",
       " [0, 0, 25, 30, 20, 25],\n",
       " [0, 0, 25, 30, 25, 20],\n",
       " [0, 0, 25, 30, 30, 15],\n",
       " [0, 0, 25, 30, 35, 10],\n",
       " [0, 0, 25, 30, 40, 5],\n",
       " [0, 0, 25, 30, 45, 0],\n",
       " [0, 0, 25, 40, 0, 35],\n",
       " [0, 0, 25, 40, 5, 30],\n",
       " [0, 0, 25, 40, 10, 25],\n",
       " [0, 0, 25, 40, 15, 20],\n",
       " [0, 0, 25, 40, 20, 15],\n",
       " [0, 0, 25, 40, 25, 10],\n",
       " [0, 0, 25, 40, 30, 5],\n",
       " [0, 0, 25, 40, 35, 0],\n",
       " [0, 0, 25, 50, 0, 25],\n",
       " [0, 0, 25, 50, 5, 20],\n",
       " [0, 0, 25, 50, 10, 15],\n",
       " [0, 0, 25, 50, 15, 10],\n",
       " [0, 0, 25, 50, 20, 5],\n",
       " [0, 0, 25, 50, 25, 0],\n",
       " [0, 0, 25, 60, 0, 15],\n",
       " [0, 0, 25, 60, 5, 10],\n",
       " [0, 0, 25, 60, 10, 5],\n",
       " [0, 0, 25, 60, 15, 0],\n",
       " [0, 0, 25, 70, 0, 5],\n",
       " [0, 0, 25, 70, 5, 0],\n",
       " [0, 0, 50, 0, 0, 50],\n",
       " [0, 0, 50, 0, 5, 45],\n",
       " [0, 0, 50, 0, 10, 40],\n",
       " [0, 0, 50, 0, 15, 35],\n",
       " [0, 0, 50, 0, 20, 30],\n",
       " [0, 0, 50, 0, 25, 25],\n",
       " [0, 0, 50, 0, 30, 20],\n",
       " [0, 0, 50, 0, 35, 15],\n",
       " [0, 0, 50, 0, 40, 10],\n",
       " [0, 0, 50, 0, 45, 5],\n",
       " [0, 0, 50, 0, 50, 0],\n",
       " [0, 0, 50, 10, 0, 40],\n",
       " [0, 0, 50, 10, 5, 35],\n",
       " [0, 0, 50, 10, 10, 30],\n",
       " [0, 0, 50, 10, 15, 25],\n",
       " [0, 0, 50, 10, 20, 20],\n",
       " [0, 0, 50, 10, 25, 15],\n",
       " [0, 0, 50, 10, 30, 10],\n",
       " [0, 0, 50, 10, 35, 5],\n",
       " [0, 0, 50, 10, 40, 0],\n",
       " [0, 0, 50, 20, 0, 30],\n",
       " [0, 0, 50, 20, 5, 25],\n",
       " [0, 0, 50, 20, 10, 20],\n",
       " [0, 0, 50, 20, 15, 15],\n",
       " [0, 0, 50, 20, 20, 10],\n",
       " [0, 0, 50, 20, 25, 5],\n",
       " [0, 0, 50, 20, 30, 0],\n",
       " [0, 0, 50, 30, 0, 20],\n",
       " [0, 0, 50, 30, 5, 15],\n",
       " [0, 0, 50, 30, 10, 10],\n",
       " [0, 0, 50, 30, 15, 5],\n",
       " [0, 0, 50, 30, 20, 0],\n",
       " [0, 0, 50, 40, 0, 10],\n",
       " [0, 0, 50, 40, 5, 5],\n",
       " [0, 0, 50, 40, 10, 0],\n",
       " [0, 0, 50, 50, 0, 0],\n",
       " [0, 0, 75, 0, 0, 25],\n",
       " [0, 0, 75, 0, 5, 20],\n",
       " [0, 0, 75, 0, 10, 15],\n",
       " [0, 0, 75, 0, 15, 10],\n",
       " [0, 0, 75, 0, 20, 5],\n",
       " [0, 0, 75, 0, 25, 0],\n",
       " [0, 0, 75, 10, 0, 15],\n",
       " [0, 0, 75, 10, 5, 10],\n",
       " [0, 0, 75, 10, 10, 5],\n",
       " [0, 0, 75, 10, 15, 0],\n",
       " [0, 0, 75, 20, 0, 5],\n",
       " [0, 0, 75, 20, 5, 0],\n",
       " [0, 0, 100, 0, 0, 0],\n",
       " [0, 50, 0, 0, 0, 50],\n",
       " [0, 50, 0, 0, 5, 45],\n",
       " [0, 50, 0, 0, 10, 40],\n",
       " [0, 50, 0, 0, 15, 35],\n",
       " [0, 50, 0, 0, 20, 30],\n",
       " [0, 50, 0, 0, 25, 25],\n",
       " [0, 50, 0, 0, 30, 20],\n",
       " [0, 50, 0, 0, 35, 15],\n",
       " [0, 50, 0, 0, 40, 10],\n",
       " [0, 50, 0, 0, 45, 5],\n",
       " [0, 50, 0, 0, 50, 0],\n",
       " [0, 50, 0, 10, 0, 40],\n",
       " [0, 50, 0, 10, 5, 35],\n",
       " [0, 50, 0, 10, 10, 30],\n",
       " [0, 50, 0, 10, 15, 25],\n",
       " [0, 50, 0, 10, 20, 20],\n",
       " [0, 50, 0, 10, 25, 15],\n",
       " [0, 50, 0, 10, 30, 10],\n",
       " [0, 50, 0, 10, 35, 5],\n",
       " [0, 50, 0, 10, 40, 0],\n",
       " [0, 50, 0, 20, 0, 30],\n",
       " [0, 50, 0, 20, 5, 25],\n",
       " [0, 50, 0, 20, 10, 20],\n",
       " [0, 50, 0, 20, 15, 15],\n",
       " [0, 50, 0, 20, 20, 10],\n",
       " [0, 50, 0, 20, 25, 5],\n",
       " [0, 50, 0, 20, 30, 0],\n",
       " [0, 50, 0, 30, 0, 20],\n",
       " [0, 50, 0, 30, 5, 15],\n",
       " [0, 50, 0, 30, 10, 10],\n",
       " [0, 50, 0, 30, 15, 5],\n",
       " [0, 50, 0, 30, 20, 0],\n",
       " [0, 50, 0, 40, 0, 10],\n",
       " [0, 50, 0, 40, 5, 5],\n",
       " [0, 50, 0, 40, 10, 0],\n",
       " [0, 50, 0, 50, 0, 0],\n",
       " [0, 50, 25, 0, 0, 25],\n",
       " [0, 50, 25, 0, 5, 20],\n",
       " [0, 50, 25, 0, 10, 15],\n",
       " [0, 50, 25, 0, 15, 10],\n",
       " [0, 50, 25, 0, 20, 5],\n",
       " [0, 50, 25, 0, 25, 0],\n",
       " [0, 50, 25, 10, 0, 15],\n",
       " [0, 50, 25, 10, 5, 10],\n",
       " [0, 50, 25, 10, 10, 5],\n",
       " [0, 50, 25, 10, 15, 0],\n",
       " [0, 50, 25, 20, 0, 5],\n",
       " [0, 50, 25, 20, 5, 0],\n",
       " [0, 50, 50, 0, 0, 0],\n",
       " [0, 100, 0, 0, 0, 0],\n",
       " [100, 0, 0, 0, 0, 0]]"
      ]
     },
     "execution_count": 6,
     "metadata": {},
     "output_type": "execute_result"
    }
   ],
   "execution_count": 6
  },
  {
   "metadata": {
    "ExecuteTime": {
     "end_time": "2024-09-21T13:55:49.034024Z",
     "start_time": "2024-09-21T13:55:49.030138Z"
    }
   },
   "cell_type": "code",
   "source": [
    "combinations = []\n",
    "\n",
    "def findCombinations(total):\n",
    "    for count_100 in range(0, total + 1, 100):\n",
    "        for count_50 in range(0, total + 1, 50):\n",
    "            for count_25 in range(0,total + 1, 25):\n",
    "                for count_10 in range(0, total + 1, 10):\n",
    "                    for count_5 in range(0, total + 1, 5):\n",
    "                        total_so_far = count_100 + count_50 + count_25 + count_10 + count_5\n",
    "                        if total_so_far <= total:\n",
    "                            combinations.append([count_100, count_50, count_25, count_10, count_5, total-total_so_far])\n",
    "    \n",
    "    return combinations"
   ],
   "outputs": [],
   "execution_count": 4
  },
  {
   "metadata": {
    "ExecuteTime": {
     "end_time": "2024-09-18T05:52:06.681024Z",
     "start_time": "2024-09-18T05:52:06.663648Z"
    }
   },
   "cell_type": "code",
   "source": "len(findCombinations(100))",
   "outputs": [
    {
     "data": {
      "text/plain": [
       "293"
      ]
     },
     "execution_count": 11,
     "metadata": {},
     "output_type": "execute_result"
    }
   ],
   "execution_count": 11
  },
  {
   "metadata": {
    "ExecuteTime": {
     "end_time": "2024-09-18T05:55:25.152987Z",
     "start_time": "2024-09-18T05:55:24.573886Z"
    }
   },
   "cell_type": "code",
   "source": [
    "totals = range(100, 600, 100)\n",
    "lengths = [len(findCombinations(total)) for total in totals]"
   ],
   "outputs": [],
   "execution_count": 12
  },
  {
   "metadata": {
    "ExecuteTime": {
     "end_time": "2024-09-18T05:58:19.317586Z",
     "start_time": "2024-09-18T05:58:18.616506Z"
    }
   },
   "cell_type": "code",
   "source": "import matplotlib.pyplot as plt",
   "outputs": [],
   "execution_count": 13
  },
  {
   "metadata": {
    "ExecuteTime": {
     "end_time": "2024-09-18T05:59:15.051408Z",
     "start_time": "2024-09-18T05:59:14.987399Z"
    }
   },
   "cell_type": "code",
   "source": [
    "plt.plot(totals, lengths)\n",
    "plt.xlabel(\"Total\")\n",
    "plt.ylabel(\"Combinations\")"
   ],
   "outputs": [
    {
     "data": {
      "text/plain": [
       "Text(0, 0.5, 'Combinations')"
      ]
     },
     "execution_count": 16,
     "metadata": {},
     "output_type": "execute_result"
    },
    {
     "data": {
      "text/plain": [
       "<Figure size 640x480 with 1 Axes>"
      ],
      "image/png": "[encoded data removed]"
     },
     "metadata": {},
     "output_type": "display_data"
    }
   ],
   "execution_count": 16
  },
  {
   "metadata": {
    "ExecuteTime": {
     "end_time": "2024-09-21T13:50:29.477299Z",
     "start_time": "2024-09-21T13:50:29.473140Z"
    }
   },
   "cell_type": "code",
   "source": [
    "numbers = [1,2,3,4,5,6,7,8,9,10]\n",
    "\n",
    "for i in numbers:\n",
    "    print(i)"
   ],
   "outputs": [
    {
     "name": "stdout",
     "output_type": "stream",
     "text": [
      "1\n",
      "2\n",
      "3\n",
      "4\n",
      "5\n",
      "6\n",
      "7\n",
      "8\n",
      "9\n",
      "10\n"
     ]
    }
   ],
   "execution_count": 1
  },
  {
   "metadata": {
    "ExecuteTime": {
     "end_time": "2024-09-21T13:52:49.337212Z",
     "start_time": "2024-09-21T13:52:49.333360Z"
    }
   },
   "cell_type": "code",
   "source": [
    "for x in range(4): #0,1,2,3\n",
    "    for y in range(3): #0,1,2\n",
    "        print(f'{x} & {y}')"
   ],
   "outputs": [
    {
     "name": "stdout",
     "output_type": "stream",
     "text": [
      "0 & 0\n",
      "0 & 1\n",
      "0 & 2\n",
      "1 & 0\n",
      "1 & 1\n",
      "1 & 2\n",
      "2 & 0\n",
      "2 & 1\n",
      "2 & 2\n",
      "3 & 0\n",
      "3 & 1\n",
      "3 & 2\n"
     ]
    }
   ],
   "execution_count": 2
  },
  {
   "metadata": {},
   "cell_type": "code",
   "outputs": [],
   "execution_count": null,
   "source": ""
  }
 ]
}
